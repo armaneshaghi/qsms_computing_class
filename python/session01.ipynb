{
 "cells": [
  {
   "cell_type": "markdown",
   "metadata": {},
   "source": [
    "# The QSMSC computing course presents...\n",
    "![Python logo](python-logo.png)\n",
    "\n",
    "## What is Python\n",
    "> Python is a programming language that lets you work more quickly and integrate your systems more effectively.\n",
    "> \n",
    "> _python.org_\n",
    "\n",
    "&nbsp;\n",
    "\n",
    "> Python is a widely used high-level programming language for general-purpose programming, created by Guido van Rossum and first released in 1991. An interpreted language, Python has a design philosophy which emphasizes code readability (notably using whitespace indentation to delimit code blocks rather than curly brackets or keywords), and a syntax which allows programmers to express concepts in fewer lines of code than possible in languages such as C++ or Java. The language provides constructs intended to enable writing clear programs on both a small and large scale.\n",
    "> \n",
    "> _wikipedia.org_\n",
    "\n",
    "## Why learn it\n",
    "\n",
    "- Simple syntax\n",
    "- Loads of users (help available)\n",
    "- Good selection of packages for neuroscience and general use\n",
    "\n",
    "## Where to get help\n",
    "\n",
    "- [Python documentation](https://docs.python.org)\n",
    "- [StackOverflow](https://stackoverflow.com/questions/tagged/python)\n",
    "- Ask!\n",
    "\n",
    "## Running Python\n",
    "\n",
    "### Interactively (the REPL)\n",
    "\n",
    "    python\n",
    "    \n",
    "Running python without supplying a script will give you a command prompt where you can type lines of code and run them directly.  This is good for quick experiments and using python tools like pandas to explore data.  Check out [ipython](https://ipython.org/) for a better experience.\n",
    "\n",
    "### Scripts\n",
    "\n",
    "    python my_script.py\n",
    "    \n",
    "For more complicated programs use a text editor to write the code and then run it all in one go.\n",
    "\n",
    "### Jupyter Notebook (this page)\n",
    "\n",
    "The [Jupyter Notebook](https://jupyter.org/) is another way to write python code interactively.  It can also display graphs so it's a great way to examine your datasets."
   ]
  },
  {
   "cell_type": "markdown",
   "metadata": {},
   "source": [
    "# Let's get started...\n",
    "## Printing\n",
    "\n",
    "The `print` function will try to print a sensible representation of it's arguments.  A function is a word like `print`, `help` or `hex` followed by a pair of brackets `()`.  Functions work on their arguments - the arguments go between the brackets.  If a function has more than one argument you separate them with a comma.\n",
    "\n",
    "Strings must be surrounded by `\"double quotes\"` or `'single quotes'`\n",
    "\n",
    "Putting that together:\n",
    "\n",
    "    print(\"Hello world\")\n",
    "    \n",
    "In Jupyter Notebook you can run code by typing it into a cell (like the one below) and pressing _control_ and _return_ at the same time (or using the Cell menu at the top).  You can also press _alt_ and _return_ to run a cell and add a new empty one below.\n",
    "\n",
    "**Try using the print function.**"
   ]
  },
  {
   "cell_type": "code",
   "execution_count": 1,
   "metadata": {
    "collapsed": true
   },
   "outputs": [],
   "source": []
  },
  {
   "cell_type": "markdown",
   "metadata": {},
   "source": [
    "Print can also handle numbers:\n",
    "\n",
    "    print(5)\n",
    "    print(4.2)\n",
    "\n",
    "You can print more than one thing at the same time.  They don't have to be the same type.\n",
    "\n",
    "    print(\"My lucky number is\", 42)\n",
    "    \n",
    "**Try printing some numbers and using multiple arguments with the print function.**"
   ]
  },
  {
   "cell_type": "code",
   "execution_count": null,
   "metadata": {
    "collapsed": true
   },
   "outputs": [],
   "source": []
  },
  {
   "cell_type": "markdown",
   "metadata": {},
   "source": [
    "> ### A brief aside about python versions\n",
    "> There are two versions of python in widespread use, 2 and 3.  Python 3 is being actively improved and is the one you should use.  Between version 2 and 3 the way the print function works changed.  In python 2, print is a statement instead of a function:\n",
    "\n",
    ">    `    # python 2`\n",
    "\n",
    ">    `    print \"hello\"`\n",
    "    \n",
    ">    `    # python 3`\n",
    "\n",
    ">    `    print(\"hello\")`\n",
    "    \n",
    ">Python 2 is often the default version that you get when you run `python` on the command line (including in the NMR unit) which means that programs written for python 3 may not work as you expect.  An easy way to get python 3 is to use [Anaconda](https://www.continuum.io/) - you don't need an administrator to install this.  Ask if you need help :)\n",
    "\n",
    "## Variables\n",
    "\n",
    "Variables are names that we use to represent a space in the computer's memory.  The contents of the memory pointed to by the variable can change but we have a name that we can use to refer to it.  This means that we can write code that we can use with lots of different data.  In python variable names must start with a letter (i.e. a-z).  The convention is that variable names should start with a lower case letter.  If your variable name has more than one word the separate the words with underscores (_).\n",
    "\n",
    "    a = 5\n",
    "    b = -3\n",
    "    pi = 3.1415\n",
    "    first_name = \"Jon\"\n",
    "    \n",
    "    print(a, b, pi, first_name)\n",
    "    \n",
    "**Try making some variables and printing them in the cell below.**"
   ]
  },
  {
   "cell_type": "code",
   "execution_count": 2,
   "metadata": {
    "collapsed": true
   },
   "outputs": [],
   "source": []
  },
  {
   "cell_type": "markdown",
   "metadata": {},
   "source": [
    "## Maths\n",
    "\n",
    "Python can do arithmetic:\n",
    "\n",
    "|Operator| Name                              |\n",
    "|:------:|-----------------------------------|\n",
    "| +      | addition                          |\n",
    "| -      | subtraction                       |\n",
    "| *      | multiplication                    |\n",
    "| /      | division                          |\n",
    "| %      | modulus (division with remainder) |\n",
    "| **     | exponent (power)                  |\n",
    "| //     | whole number division             |"
   ]
  },
  {
   "cell_type": "code",
   "execution_count": null,
   "metadata": {},
   "outputs": [],
   "source": [
    "# Try running this cell\n",
    "\n",
    "add = 4 + 5\n",
    "sub = 6 - 4\n",
    "mul = 2.5 * 2\n",
    "div = 9 / 2\n",
    "mod = 3 % 2\n",
    "exp = 4 ** 2\n",
    "who = 9 // 2\n",
    "\n",
    "print('4 + 5 =', add)\n",
    "print('6 - 4 =', sub)\n",
    "print('2.5 * 2 =', mul)\n",
    "print('9 / 2 =', div)\n",
    "print('3 % 2 =', mod)\n",
    "print('4 ** 2 =', exp)\n",
    "print('9 // 2 =', who)"
   ]
  },
  {
   "cell_type": "markdown",
   "metadata": {},
   "source": [
    "**Try using the arithmetic operators, assigning to variables and printing the results in the cell below.**"
   ]
  },
  {
   "cell_type": "code",
   "execution_count": null,
   "metadata": {
    "collapsed": true
   },
   "outputs": [],
   "source": []
  },
  {
   "cell_type": "markdown",
   "metadata": {},
   "source": [
    "## Lists\n",
    "Python has a number of ways to make collections of data.  One of these is the list.  You make a list by putting things between square brackets  and separating the items with commas.\n",
    "\n",
    "    vegetables = ['potato', 'carrot', 'cabbage']\n",
    "    measurements = [32.1, 89.2, 10.3]\n",
    "    \n",
    "    # not everything in a list has to be the same type\n",
    "    mixed = [6.12, 'apple', 4]\n",
    "    \n",
    "You can get a single item from a list as follows (note that we count items from zero - this is different to Matlab):\n",
    "\n",
    "    rainbow = ['red', 'orange', 'green', 'blue', 'indigo', 'violet']\n",
    "    print(rainbow[0])\n",
    "    print(rainbox[1])\n",
    "    \n",
    "    # you can go from the end of a list using negative numbers\n",
    "    print(rainbow[-1])\n",
    "    print(rainbox[-2])\n",
    "    \n",
    "**Try making a list and accessing its elements in the cell below.**"
   ]
  },
  {
   "cell_type": "code",
   "execution_count": null,
   "metadata": {
    "collapsed": true
   },
   "outputs": [],
   "source": []
  },
  {
   "cell_type": "markdown",
   "metadata": {},
   "source": [
    "## Making choices: the if statement\n",
    "\n",
    "If we want our programs to change behaviour depending on the value of a variable we can use the `if` statement and the conditional operators.\n",
    "\n",
    "    volunteer_age = 17\n",
    "    if x >= 18:\n",
    "        print('Volunteer can take part')\n",
    "    else:\n",
    "        print('Volunteer is too young')\n",
    "        \n",
    "Python has the following conditional operators:\n",
    "\n",
    "| Operator | Meaning                |  True          | False   |\n",
    "|:--------:|------------------------|----------------|---------|\n",
    "| ==       | Equal                  | 4 == 4         | 5 == 4  |\n",
    "| >        | Greater-than           | 3 > 2          | 1 > 5   |\n",
    "| <        | Less than              | 5 < 11         | 20 < 19 |\n",
    "| >=       | Greater than or equal  | 5 >= 5, 6 >= 3 | 4 >= 5  |\n",
    "| <=       | Less than or equal     | 3 <= 4, 5 <= 5 | 6 <= 5  |\n",
    "| !=       | Not equal              | 3 != 4         | 2 != 2  |\n",
    "\n",
    "The conditional operators return a boolean (`True` or `False`).\n",
    "\n",
    "**Try running the cell below.**"
   ]
  },
  {
   "cell_type": "code",
   "execution_count": null,
   "metadata": {},
   "outputs": [],
   "source": [
    "a = 5\n",
    "print(a == 5)\n",
    "print(a < 5)\n",
    "print(a > 5)\n",
    "print(a != 5)\n",
    "print(a >= 5)\n",
    "print(a <= 5)"
   ]
  },
  {
   "cell_type": "markdown",
   "metadata": {},
   "source": [
    "**Use an if statement with a conditional in the cell below so that it prints \"Alice is older than Barbara\"**"
   ]
  },
  {
   "cell_type": "code",
   "execution_count": null,
   "metadata": {
    "collapsed": true
   },
   "outputs": [],
   "source": [
    "alice_age = 16\n",
    "barbara_age = 12"
   ]
  },
  {
   "cell_type": "markdown",
   "metadata": {},
   "source": []
  }
 ],
 "metadata": {
  "kernelspec": {
   "display_name": "Python 3",
   "language": "python",
   "name": "python3"
  },
  "language_info": {
   "codemirror_mode": {
    "name": "ipython",
    "version": 3
   },
   "file_extension": ".py",
   "mimetype": "text/x-python",
   "name": "python",
   "nbconvert_exporter": "python",
   "pygments_lexer": "ipython3",
   "version": "3.4.5"
  }
 },
 "nbformat": 4,
 "nbformat_minor": 2
}
