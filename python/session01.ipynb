{
 "cells": [
  {
   "cell_type": "markdown",
   "metadata": {},
   "source": [
    "# The QSMSC computing course presents...\n",
    "![Python logo](python-logo.png)\n",
    "\n",
    "## What is Python\n",
    "> Python is a programming language that lets you work more quickly and integrate your systems more effectively.\n",
    "> \n",
    "> _python.org_\n",
    "\n",
    "&nbsp;\n",
    "\n",
    "> Python is a widely used high-level programming language for general-purpose programming, created by Guido van Rossum and first released in 1991. An interpreted language, Python has a design philosophy which emphasizes code readability (notably using whitespace indentation to delimit code blocks rather than curly brackets or keywords), and a syntax which allows programmers to express concepts in fewer lines of code than possible in languages such as C++ or Java. The language provides constructs intended to enable writing clear programs on both a small and large scale.\n",
    "> \n",
    "> _wikipedia.org_\n",
    "\n",
    "## Why learn it\n",
    "\n",
    "- Simple syntax\n",
    "- Loads of users (help available)\n",
    "- Good selection of packages for neuroscience and general use\n",
    "  - [nipype](https://nipype.readthedocs.io/en/latest/) - work with many neuroimaging tools in a single interface\n",
    "  - [scipy](https://www.scipy.org/) - broad collection of tools for maths, science and engineering\n",
    "  - [scikit-learn](http://scikit-learn.org/stable/) - tools for data mining and data analysis\n",
    "  - [keras](https://keras.io/) - machine learning\n",
    "  - [sqlalchemy](https://www.sqlalchemy.org/) - with many types of database in a single interface\n",
    "  - [nibabel](http://nipy.org/nibabel/) - load and save neuroimaging data formats\n",
    "  - [pydicom](https://pydicom.readthedocs.io/en/stable/) - work with DICOM data\n",
    "\n",
    "## Where to get help\n",
    "\n",
    "- [Python documentation](https://docs.python.org)\n",
    "- [StackOverflow](https://stackoverflow.com/questions/tagged/python)\n",
    "- Ask!\n",
    "\n",
    "## Running Python\n",
    "\n",
    "### Interactively (the REPL)\n",
    "\n",
    "    python\n",
    "    \n",
    "Running python without supplying a script will give you a command prompt where you can type lines of code and run them directly.  This is good for quick experiments and using python tools like pandas to explore data.  Check out [ipython](https://ipython.org/) for a better experience.\n",
    "\n",
    "### Scripts\n",
    "\n",
    "    python my_script.py\n",
    "    \n",
    "For more complicated programs use a text editor to write the code and then run it all in one go.\n",
    "\n",
    "### Jupyter Notebook (this page)\n",
    "\n",
    "The [Jupyter Notebook](https://jupyter.org/) is another way to write python code interactively.  It can also display graphs so it's a great way to examine your datasets."
   ]
  },
  {
   "cell_type": "markdown",
   "metadata": {},
   "source": [
    "# Let's get started...\n",
    "\n",
    "## Run some code\n",
    "\n",
    "In Jupyter Notebook you can run code by typing it into a cell (like the one below) and pressing _control_ and _return_ at the same time (or using the Cell menu at the top).  You can also press _shift_ and _return_ to run a cell and move to the next one or _alt_ and _return_ to run a cell and add a new empty one below.\n",
    "\n",
    "**Select the cell below and try running it**"
   ]
  },
  {
   "cell_type": "code",
   "execution_count": null,
   "metadata": {},
   "outputs": [],
   "source": [
    "print('Congratulations you just ran some python code!')"
   ]
  },
  {
   "cell_type": "markdown",
   "metadata": {},
   "source": [
    "## Printing\n",
    "\n",
    "The `print` function will try to print a sensible representation of it's arguments.  A function is a word like `print`, `help` or `hex` followed by a pair of brackets `()`.  Functions work on their arguments - the arguments go between the brackets.  If a function has more than one argument you separate them with a comma.\n",
    "\n",
    "Strings must be surrounded by `\"double quotes\"` or `'single quotes'`\n",
    "\n",
    "Putting that together:\n",
    "\n",
    "    print(\"Hello world\")\n",
    "    \n",
    "**Try using the print function.**"
   ]
  },
  {
   "cell_type": "code",
   "execution_count": 1,
   "metadata": {
    "collapsed": true
   },
   "outputs": [],
   "source": []
  },
  {
   "cell_type": "markdown",
   "metadata": {},
   "source": [
    "Print can also handle numbers:\n",
    "\n",
    "    print(5)\n",
    "    print(4.2)\n",
    "\n",
    "You can print more than one thing at the same time.  They don't have to be the same type.\n",
    "\n",
    "    print(\"My lucky number is\", 42)\n",
    "    \n",
    "**Try printing some numbers and using multiple arguments with the print function.**"
   ]
  },
  {
   "cell_type": "code",
   "execution_count": null,
   "metadata": {
    "collapsed": true
   },
   "outputs": [],
   "source": []
  },
  {
   "cell_type": "markdown",
   "metadata": {},
   "source": [
    "> ### A brief aside about python versions\n",
    "> There are two versions of python in widespread use, 2 and 3.  Python 3 is being actively improved and is the one you should use.  Between version 2 and 3 the way the print function works changed.  In python 2, print is a statement instead of a function:\n",
    "\n",
    ">    `    # python 2`\n",
    "\n",
    ">    `    print \"hello\"`\n",
    "    \n",
    ">    `    # python 3`\n",
    "\n",
    ">    `    print(\"hello\")`\n",
    "    \n",
    ">Python 2 is often the default version that you get when you run `python` on the command line (including in the NMR unit) which means that programs written for python 3 may not work as you expect.  An easy way to get python 3 is to use [Anaconda](https://www.continuum.io/) - you don't need an administrator to install this.  Ask if you need help :)\n",
    "\n",
    "## Variables\n",
    "\n",
    "Variables are names that we use to represent a space in the computer's memory.  The contents of the memory pointed to by the variable can change but we have a name that we can use to refer to it.  This means that we can write code that we can use with lots of different data.  In python variable names must start with a letter (i.e. a-z).  The convention is that variable names should start with a lower case letter.  If your variable name has more than one word the separate the words with underscores (_).\n",
    "\n",
    "    a = 5\n",
    "    b = -3\n",
    "    pi = 3.1415\n",
    "    first_name = \"Jon\"\n",
    "    \n",
    "    print(a, b, pi, first_name)\n",
    "    \n",
    "**Try making some variables and printing them in the cell below.**"
   ]
  },
  {
   "cell_type": "code",
   "execution_count": 2,
   "metadata": {
    "collapsed": true
   },
   "outputs": [],
   "source": []
  },
  {
   "cell_type": "markdown",
   "metadata": {},
   "source": [
    "## Maths\n",
    "\n",
    "Python can do arithmetic:\n",
    "\n",
    "|Operator| Name                              |\n",
    "|:------:|-----------------------------------|\n",
    "| +      | addition                          |\n",
    "| -      | subtraction                       |\n",
    "| *      | multiplication                    |\n",
    "| /      | division                          |\n",
    "| %      | modulus (division with remainder) |\n",
    "| **     | exponent (power)                  |\n",
    "| //     | whole number division             |"
   ]
  },
  {
   "cell_type": "code",
   "execution_count": null,
   "metadata": {
    "collapsed": true
   },
   "outputs": [],
   "source": [
    "# Try running this cell\n",
    "\n",
    "add = 4 + 5\n",
    "sub = 6 - 4\n",
    "mul = 2.5 * 2\n",
    "div = 9 / 2\n",
    "mod = 3 % 2\n",
    "exp = 4 ** 2\n",
    "who = 9 // 2\n",
    "\n",
    "print('4 + 5 =', add)\n",
    "print('6 - 4 =', sub)\n",
    "print('2.5 * 2 =', mul)\n",
    "print('9 / 2 =', div)\n",
    "print('3 % 2 =', mod)\n",
    "print('4 ** 2 =', exp)\n",
    "print('9 // 2 =', who)"
   ]
  },
  {
   "cell_type": "markdown",
   "metadata": {},
   "source": [
    "**Try using the arithmetic operators, assigning to variables and printing the results in the cell below.**"
   ]
  },
  {
   "cell_type": "code",
   "execution_count": null,
   "metadata": {
    "collapsed": true
   },
   "outputs": [],
   "source": []
  },
  {
   "cell_type": "markdown",
   "metadata": {},
   "source": [
    "## Lists\n",
    "Python has a number of ways to make collections of data.  One of these is the [list](https://docs.python.org/3.6/library/stdtypes.html#list).  You make a list by putting things between square brackets  and separating the items with commas.\n",
    "\n",
    "    vegetables = ['potato', 'carrot', 'cabbage']\n",
    "    measurements = [32.1, 89.2, 10.3]\n",
    "    \n",
    "    # not everything in a list has to be the same type\n",
    "    mixed = [6.12, 'apple', 4]\n",
    "    \n",
    "You can get a single item from a list as follows (note that we count items from zero - this is different to Matlab):\n",
    "\n",
    "    rainbow = ['red', 'orange', 'green', 'blue', 'indigo', 'violet']\n",
    "    print(rainbow[0])\n",
    "    print(rainbox[1])\n",
    "    \n",
    "    # you can go from the end of a list using negative numbers\n",
    "    print(rainbow[-1])\n",
    "    print(rainbox[-2])\n",
    "    \n",
    "**Try making a list and accessing its elements in the cell below.**"
   ]
  },
  {
   "cell_type": "code",
   "execution_count": null,
   "metadata": {
    "collapsed": true
   },
   "outputs": [],
   "source": []
  },
  {
   "cell_type": "markdown",
   "metadata": {},
   "source": [
    "You can make an empty list using the [`list()`](https://docs.python.org/3.6/library/functions.html#func-list) function or with an empty pair of square brackets `[]`.\n",
    "\n",
    "To add items to a list we use the the `append()` method.  Methods are like functions but they are attached to something else like a list or string.  You call a method like this: `thing.method()`.\n",
    "\n",
    "    people = [\"Alice\", \"Bob\"]\n",
    "    people.append(\"Charlie\")\n",
    "    # people now contains: \"Alice\", \"Bob\" and \"Charlie\"\n",
    "  \n",
    "If you know where in a list an item is, you can get it back using the `pop()` method (remember that you can get an item from the end of a list by using a negative number).\n",
    "\n",
    "    animals = [\"Dog\", \"Cat\", \"Badger\"]\n",
    "    a = animals.pop(0)\n",
    "    print(a)  # prints \"Dog\"\n",
    "    print(animals)  # prints [\"Cat\", \"Badger\"]\n",
    "    \n",
    "You can also use the `remove()` method - this deletes the first matching item that it comes across.\n",
    "\n",
    "    countries = [\"Brazil\", \"France\", \"Iceland\", \"France\"]\n",
    "    countries.remove(\"France\")\n",
    "    print(countries)  # prints [\"Brazil\", \"Iceland\", \"France\"]\n",
    "    \n",
    "** Try making a list, appending to it and removing items from it in the cell below.  Use print() to see how the list changes. **"
   ]
  },
  {
   "cell_type": "code",
   "execution_count": null,
   "metadata": {
    "collapsed": true
   },
   "outputs": [],
   "source": []
  },
  {
   "cell_type": "markdown",
   "metadata": {},
   "source": [
    "It's very common to want a list of list of numbers to use as an input to other functions so python has a function called [`range()`](https://docs.python.org/3.6/library/functions.html#func-range) that does this for you.  There are 3 ways to use `range()`:\n",
    " - `range(5)` will give you numbers up to (but not including) 5 starting from zero\n",
    " - `range(2, 8)` will give you numbers up to 8 starting from 2.\n",
    " - `range(5, 10, 2)` will give you numbers from 5, up to 10, counting in steps of 2.\n",
    " \n",
    "**Try the 3 ways of using range() in the cell below**"
   ]
  },
  {
   "cell_type": "code",
   "execution_count": 8,
   "metadata": {},
   "outputs": [
    {
     "name": "stdout",
     "output_type": "stream",
     "text": [
      "[0, 1, 2, 3, 4]\n",
      "[2, 3, 4, 5, 6, 7]\n",
      "[5, 7, 9]\n"
     ]
    }
   ],
   "source": [
    "print(list(range(5)))\n",
    "print(list(range(2, 8)))\n",
    "print(list(range(5, 10, 2)))"
   ]
  },
  {
   "cell_type": "markdown",
   "metadata": {},
   "source": [
    "## Space\n",
    "\n",
    "<img src=\"https://upload.wikimedia.org/wikipedia/commons/thumb/8/87/LH_95.jpg/1024px-LH_95.jpg\" alt=\"Space\" style=\"width: 400px;\"/>\n",
    "\n",
    "### No, not that one\n",
    "\n",
    "In python, the way you lay out your code matters.   If statements, for loops and function definitions (and other things) have to be indented properly.  The simple rule is that if a line ends in a colon (:) the next line and the following lines in the same block should be indented by the same amount.\n",
    "\n",
    "The most common style is to use 4 spaces for each level of indentation.  Using a good editor (like [Atom](https://atom.io/)) will help with this."
   ]
  },
  {
   "cell_type": "code",
   "execution_count": null,
   "metadata": {
    "collapsed": true
   },
   "outputs": [],
   "source": [
    "# this is wrong\n",
    "if True:\n",
    "print('something')\n",
    "else:\n",
    "print('something else')"
   ]
  },
  {
   "cell_type": "code",
   "execution_count": null,
   "metadata": {
    "collapsed": true
   },
   "outputs": [],
   "source": [
    "# this is correct\n",
    "if True:\n",
    "    print('something')\n",
    "else:\n",
    "    print('something else')"
   ]
  },
  {
   "cell_type": "markdown",
   "metadata": {},
   "source": [
    "## Branching choices: the `if` statement\n",
    "\n",
    "<img src=\"https://upload.wikimedia.org/wikipedia/commons/7/70/Ailanthus_giraldii-old_branches-backlighted.JPG\" alt=\"Branches\" style=\"width: 400px;\"/>\n",
    "\n",
    "If we want our programs to change behaviour depending on the value of a variable we can use the `if` statement and the conditional operators.\n",
    "\n",
    "    volunteer_age = 17\n",
    "    if x >= 18:\n",
    "        print('Volunteer can take part')\n",
    "    else:\n",
    "        print('Volunteer is too young')\n",
    "        \n",
    "Python has the following conditional operators:\n",
    "\n",
    "| Operator | Meaning                |  True          | False   |\n",
    "|:--------:|------------------------|----------------|---------|\n",
    "| ==       | Equal                  | 4 == 4         | 5 == 4  |\n",
    "| >        | Greater-than           | 3 > 2          | 1 > 5   |\n",
    "| <        | Less than              | 5 < 11         | 20 < 19 |\n",
    "| >=       | Greater than or equal  | 5 >= 5, 6 >= 3 | 4 >= 5  |\n",
    "| <=       | Less than or equal     | 3 <= 4, 5 <= 5 | 6 <= 5  |\n",
    "| !=       | Not equal              | 3 != 4         | 2 != 2  |\n",
    "\n",
    "The conditional operators return a boolean (`True` or `False`).\n",
    "\n",
    "**Try running the cell below.**"
   ]
  },
  {
   "cell_type": "code",
   "execution_count": null,
   "metadata": {
    "collapsed": true
   },
   "outputs": [],
   "source": [
    "a = 5\n",
    "print(a == 5)\n",
    "print(a < 5)\n",
    "print(a > 5)\n",
    "print(a != 5)\n",
    "print(a >= 5)\n",
    "print(a <= 5)"
   ]
  },
  {
   "cell_type": "markdown",
   "metadata": {},
   "source": [
    "**Add an if statement with a conditional in the cell below so that it prints \"Alice is older than Barbara\"**"
   ]
  },
  {
   "cell_type": "code",
   "execution_count": 10,
   "metadata": {
    "collapsed": true
   },
   "outputs": [],
   "source": [
    "alice_age = 16\n",
    "barbara_age = 12\n",
    "\n",
    "# Add your if statement after this line"
   ]
  },
  {
   "cell_type": "markdown",
   "metadata": {},
   "source": [
    "To add extra branches to an if statement you can add `elif` blocks.  The first condition reached that is true is the one that is executed (be careful which order you use):\n",
    "\n",
    "    a = 10\n",
    "    if a < 5:\n",
    "        print(\"Not this one\")\n",
    "    elif a < 15:\n",
    "        print(\"This one\")\n",
    "    elif a < 20:\n",
    "        print(\"Never get to here\")\n",
    "\n",
    "### Combining conditionals `and`, `else` and `not`:\n",
    "\n",
    "If you need to test more than one condition then you can combine conditional statements using `and`, `else` and `not`.\n",
    "\n",
    " - `and`: both tests must be True\n",
    " - `or`: either or both tests must be True\n",
    " - `not`: invert the conditional\n",
    " \n",
    "To avoid confusion, consider using round brackets `()` to group statements.\n",
    " \n",
    "    x = 4\n",
    "    y = 7\n",
    "   \n",
    "    if (x < 5) and (y == 7):\n",
    "        print(\"This will happen\")\n",
    "\n",
    "    if (x == 4) or (y > 10):\n",
    "        print(\"This happens as well\")\n",
    "        \n",
    "    if (x > 3) and not (y > 10):\n",
    "        print(\"This will also happen\")\n",
    "        \n",
    "** Try combining conditional operators and using branching if statements. **"
   ]
  },
  {
   "cell_type": "code",
   "execution_count": null,
   "metadata": {
    "collapsed": true
   },
   "outputs": [],
   "source": []
  },
  {
   "cell_type": "markdown",
   "metadata": {},
   "source": [
    "## Doing things more than once - the `for` statement\n",
    "\n",
    "We use the `for` statement to execute code more than once, e.g. to apply the same function to all the items in a list.  `for` statements look like this:\n",
    "\n",
    "    for variable in collection:\n",
    "        function(variable)\n",
    "        other_function(variable)\n",
    "\n",
    "** Run the examples in the cells below. **"
   ]
  },
  {
   "cell_type": "code",
   "execution_count": null,
   "metadata": {
    "collapsed": true
   },
   "outputs": [],
   "source": [
    "# the len() function gives the length of the strings and lists\n",
    "\n",
    "colours = [\"red\", \"green\", \"blue\", \"yellow\"]\n",
    "for c in colours:\n",
    "    length_of_c = len(c)\n",
    "    print(c, \"is\", length_of_c, \"letters long\")"
   ]
  },
  {
   "cell_type": "code",
   "execution_count": null,
   "metadata": {
    "collapsed": true
   },
   "outputs": [],
   "source": [
    "# combine range() and len() to print the ID of every other patient in a list\n",
    "\n",
    "patients = [\"10-001\", \"10-002\", \"11-001\", \"11-002\", \"11-003\"]\n",
    "for i in range(0, len(patients), 2):\n",
    "    print(\"patient\", i, \":\", patients[i])"
   ]
  },
  {
   "cell_type": "markdown",
   "metadata": {},
   "source": [
    "You can use the `break` keyword to stop a `for` loop early and the `continue` keyword to skip the current item but keep going.\n",
    "\n",
    "** Run the example below. **"
   ]
  },
  {
   "cell_type": "code",
   "execution_count": null,
   "metadata": {
    "collapsed": true
   },
   "outputs": [],
   "source": [
    "cities = [\"Paris\", \"London\", \"Kiev\", \"Washington\", \"Madrid\"]\n",
    "for city in cities:\n",
    "    if len(city) < 5:\n",
    "        continue\n",
    "    elif len(city) > 6:\n",
    "        break\n",
    "    print(city)"
   ]
  },
  {
   "cell_type": "markdown",
   "metadata": {},
   "source": [
    "** Try making a list then using a `for` loop to print every item in the list. **"
   ]
  },
  {
   "cell_type": "code",
   "execution_count": null,
   "metadata": {
    "collapsed": true
   },
   "outputs": [],
   "source": []
  },
  {
   "cell_type": "markdown",
   "metadata": {},
   "source": [
    "** Try using `break` and `continue` to exit a `for` loop when you find a certain condition. **"
   ]
  },
  {
   "cell_type": "markdown",
   "metadata": {},
   "source": [
    "## Another way of looping - the `while` statement\n",
    "\n",
    "If you need to repeat a block of code an indeterminate number of times (e.g. numerical methods, reading inputs) then you can use a while loop.  Be careful when using while loops to make sure that your program will finish at some point.\n",
    "\n",
    "**Run the examples below.**"
   ]
  },
  {
   "cell_type": "code",
   "execution_count": null,
   "metadata": {
    "collapsed": true
   },
   "outputs": [],
   "source": [
    "# set x = 0, then while x is less than 10 add 1 to it on each loop\n",
    "x = 0\n",
    "while x < 10:\n",
    "    print(\"x = \", x)\n",
    "    x = x + 1"
   ]
  },
  {
   "cell_type": "code",
   "execution_count": null,
   "metadata": {
    "collapsed": true
   },
   "outputs": [],
   "source": [
    "# pop an item off the end of the list until the item == \"oak\"\n",
    "trees = [\"poplar\", \"beech\", \"oak\", \"maple\", \"hawthorn\"]\n",
    "while True:\n",
    "    t = trees.pop(-1)\n",
    "    if t == \"oak\":\n",
    "        break\n",
    "    else:\n",
    "        print(t)"
   ]
  },
  {
   "cell_type": "markdown",
   "metadata": {},
   "source": [
    "** Try creating your own `while` loop - be careful to make sure it will terminate **"
   ]
  },
  {
   "cell_type": "code",
   "execution_count": null,
   "metadata": {
    "collapsed": true
   },
   "outputs": [],
   "source": []
  },
  {
   "cell_type": "markdown",
   "metadata": {},
   "source": [
    "## Functions of your own"
   ]
  },
  {
   "cell_type": "markdown",
   "metadata": {},
   "source": [
    "Functions are a way of organising your code into self-contained units that perform a single task.  Grouping your code into functions makes it easier to understand and re-use.\n",
    "\n",
    "The `def` keyword in python is used to indicate a function.  The function's name should start with a lower-case letter and reflect what the function does.  Functions may have inputs that will exist as variables inside the function.\n",
    "\n",
    "Often you will want to get the result of your function so you can do further work.  To make you function output a variable use the `return` keyword.\n",
    "\n",
    "** Run the example code below **"
   ]
  },
  {
   "cell_type": "code",
   "execution_count": null,
   "metadata": {
    "collapsed": true
   },
   "outputs": [],
   "source": [
    "# a simple function that just prints \"hello\"\n",
    "def say_hi():\n",
    "    print(\"Hi there\")\n",
    "    \n",
    "say_hi()\n",
    "\n",
    "# a function with an input\n",
    "def say_hello_to_someone(name):\n",
    "    print(\"Hello\", name)\n",
    "    \n",
    "say_hello_to_someone(\"Jon\")\n",
    "    \n",
    "# a function that adds 5 to it's input and returns the result\n",
    "def add_five(x):\n",
    "    y = x + 5\n",
    "    return y\n",
    "\n",
    "value = 7\n",
    "bigger_value = add_five(value)\n",
    "print(bigger_value)"
   ]
  },
  {
   "cell_type": "markdown",
   "metadata": {},
   "source": [
    "** Try defining and calling a function of your own in the cell below **"
   ]
  },
  {
   "cell_type": "code",
   "execution_count": null,
   "metadata": {
    "collapsed": true
   },
   "outputs": [],
   "source": []
  },
  {
   "cell_type": "markdown",
   "metadata": {},
   "source": [
    "# The end\n",
    "\n",
    "That's _pretty much_ all of the basic things that you need to know to write python code.  Next week we'll try combining that knowledge with python's large library of tools to accomplish some complicated jobs very easily."
   ]
  }
 ],
 "metadata": {
  "kernelspec": {
   "display_name": "Python 3",
   "language": "python",
   "name": "python3"
  },
  "language_info": {
   "codemirror_mode": {
    "name": "ipython",
    "version": 3
   },
   "file_extension": ".py",
   "mimetype": "text/x-python",
   "name": "python",
   "nbconvert_exporter": "python",
   "pygments_lexer": "ipython3",
   "version": "3.4.5"
  }
 },
 "nbformat": 4,
 "nbformat_minor": 2
}
