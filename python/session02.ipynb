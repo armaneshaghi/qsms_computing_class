{
 "cells": [
  {
   "cell_type": "markdown",
   "metadata": {},
   "source": [
    "# The QSMSC computing course presents...\n",
    "![Python logo](python-logo.png)\n",
    "\n",
    "## Last time we covered...\n",
    "    \n",
    "### Printing"
   ]
  },
  {
   "cell_type": "code",
   "execution_count": null,
   "metadata": {
    "collapsed": true
   },
   "outputs": [],
   "source": [
    "print(\"Hello world\")\n",
    "print(5)\n",
    "print(\"You can print\", \"more than\", 1, \"thing at a time\")"
   ]
  },
  {
   "cell_type": "markdown",
   "metadata": {},
   "source": [
    "### Variables"
   ]
  },
  {
   "cell_type": "code",
   "execution_count": null,
   "metadata": {
    "collapsed": true
   },
   "outputs": [],
   "source": [
    "a = 12\n",
    "my_variable = \"a string\"\n",
    "print(a, my_variable)"
   ]
  },
  {
   "cell_type": "markdown",
   "metadata": {},
   "source": [
    "### Maths"
   ]
  },
  {
   "cell_type": "code",
   "execution_count": null,
   "metadata": {
    "collapsed": true
   },
   "outputs": [],
   "source": [
    "add = 4 + 5\n",
    "sub = 6 - 4\n",
    "mul = 2.5 * 2\n",
    "div = 9 / 2\n",
    "mod = 3 % 2\n",
    "exp = 4 ** 2\n",
    "who = 9 // 2\n",
    "\n",
    "print('4 + 5 =', add)\n",
    "print('6 - 4 =', sub)\n",
    "print('2.5 * 2 =', mul)\n",
    "print('9 / 2 =', div)\n",
    "print('3 % 2 =', mod)\n",
    "print('4 ** 2 =', exp)\n",
    "print('9 // 2 =', who)"
   ]
  },
  {
   "cell_type": "markdown",
   "metadata": {},
   "source": [
    "### Lists"
   ]
  },
  {
   "cell_type": "code",
   "execution_count": null,
   "metadata": {
    "collapsed": true
   },
   "outputs": [],
   "source": [
    "# making a list\n",
    "vegetables = ['potato', 'carrot']\n",
    "print('vegetables = ', vegetables)\n",
    "\n",
    "# appending to the list\n",
    "vegetables.append('turnip')\n",
    "print('after appending, vegetables =', vegetables)\n",
    "\n",
    "# accessing items\n",
    "print('the first item is', vegetables[0])\n",
    "print('the last item is', vegetables[-1])\n",
    "\n",
    "# taking an item out of the list\n",
    "vegetables.pop(1)\n",
    "print('after pop(1), vegetables = ', vegetables)"
   ]
  },
  {
   "cell_type": "markdown",
   "metadata": {},
   "source": [
    "### The `if` statement"
   ]
  },
  {
   "cell_type": "code",
   "execution_count": null,
   "metadata": {
    "collapsed": true
   },
   "outputs": [],
   "source": [
    "my_variable = 5\n",
    "my_other_variable = 2\n",
    "\n",
    "if my_variable >= 4:\n",
    "    print('my_variable is >= 4')\n",
    "else:\n",
    "    print('my_variable is not >= 4')"
   ]
  },
  {
   "cell_type": "code",
   "execution_count": null,
   "metadata": {
    "collapsed": true
   },
   "outputs": [],
   "source": [
    "my_variable = 5\n",
    "my_other_variable = 2\n",
    "\n",
    "if (my_variable < 3) and (my_other_variable >= 4):\n",
    "    print('both conditions True in the second if statement')\n",
    "else:\n",
    "    print('one of other condition was False in the second if statement')"
   ]
  },
  {
   "cell_type": "markdown",
   "metadata": {},
   "source": [
    "### The `for` loop"
   ]
  },
  {
   "cell_type": "code",
   "execution_count": null,
   "metadata": {
    "collapsed": true
   },
   "outputs": [],
   "source": [
    "# range lets us loop over a list of numbers\n",
    "for i in range(10):\n",
    "    print(i)"
   ]
  },
  {
   "cell_type": "code",
   "execution_count": null,
   "metadata": {
    "collapsed": true
   },
   "outputs": [],
   "source": [
    "# you can also use a for loop on lists\n",
    "for country in ['France', 'Spain', 'Italy']:\n",
    "    print(country)"
   ]
  },
  {
   "cell_type": "markdown",
   "metadata": {},
   "source": [
    "### The `while` loop"
   ]
  },
  {
   "cell_type": "code",
   "execution_count": null,
   "metadata": {
    "collapsed": true
   },
   "outputs": [],
   "source": [
    "x = 0\n",
    "while x < 10:\n",
    "    print(x)\n",
    "    x = x + 2"
   ]
  },
  {
   "cell_type": "markdown",
   "metadata": {},
   "source": [
    "### Defining functions"
   ]
  },
  {
   "cell_type": "code",
   "execution_count": null,
   "metadata": {
    "collapsed": true
   },
   "outputs": [],
   "source": [
    "def say_hello(name):\n",
    "    print('Hello', name)\n",
    "    \n",
    "say_hello('Jon')"
   ]
  },
  {
   "cell_type": "code",
   "execution_count": null,
   "metadata": {
    "collapsed": true
   },
   "outputs": [],
   "source": [
    "def add_two_numbers(x, y):\n",
    "    return x + y\n",
    "\n",
    "add_two_numbers(4, 3)"
   ]
  },
  {
   "cell_type": "markdown",
   "metadata": {},
   "source": [
    "## This week\n",
    "\n",
    "This week we're going to quickly go over another type, the [dictionary](https://docs.python.org/2/tutorial/datastructures.html#dictionaries).  Then we're going to solve an example problem using Python's library to read and analyse a CSV of data.\n",
    "\n",
    "\n",
    "## The dictionary\n",
    "\n",
    "<img alt=\"Safe deposit boxes\" src=\"safe_deposit_sm.jpg\" style=\"width: 400px;\">\n",
    "\n",
    "Dictionaries are a little like the safe deposit boxes at a bank.  They hold a collection of items and you need a key to get each item.  This is very useful collecting this together into records e.g. a patient's name, age and gender.\n",
    "\n",
    "You use the [`dict()`](https://docs.python.org/2/library/stdtypes.html#dict) function to create a dictionary but there's a useful shortcut:\n",
    "\n",
    "    my_dictionary = {\n",
    "        'key1': 'value1',\n",
    "        'key2': 'value2'\n",
    "    }\n",
    "    \n",
    "The values in a dictionary can be any python type and you can mix them so a dict can contain e.g. strings, numbers, lists and even other dictionaries.  The keys must be immutable (this means that they can't change), immutable types include: strings and numbers (note that lists and dictionaries are not immutable).  You access the values in a dictionary using square brackets:\n",
    "\n",
    "    my_dictionary['key1']"
   ]
  },
  {
   "cell_type": "code",
   "execution_count": null,
   "metadata": {
    "collapsed": true
   },
   "outputs": [],
   "source": [
    "# make a dictionary describing a single patient\n",
    "patient = {\n",
    "    'name': 'Alice',\n",
    "    'age': 32,\n",
    "    'symptoms': ['nausea', 'headache']\n",
    "}\n",
    "\n",
    "print(patient['name'])\n",
    "print(patient['age'])\n",
    "print(patient['symptoms'])"
   ]
  },
  {
   "cell_type": "code",
   "execution_count": null,
   "metadata": {
    "collapsed": true
   },
   "outputs": [],
   "source": [
    "# make a dictionary with patient IDs as keys and another dictionary as the values\n",
    "all_patients = {\n",
    "    10001: {'name': 'Barry', 'age': 20, 'symptoms': ['headache']},\n",
    "    22003: {'name': 'Emma', 'age': 41, 'symptoms': ['headache', 'nausea']},\n",
    "    32004: {'name': 'Emma', 'age': 41, 'symptoms': ['ataxia']},\n",
    "}\n",
    "\n",
    "print(all_patients[10001])\n",
    "print(all_patients[22003])\n",
    "print(all_patients[32004])"
   ]
  },
  {
   "cell_type": "markdown",
   "metadata": {
    "collapsed": true
   },
   "source": [
    "**Try this out yourself in the box below.**"
   ]
  },
  {
   "cell_type": "code",
   "execution_count": null,
   "metadata": {
    "collapsed": true
   },
   "outputs": [],
   "source": []
  },
  {
   "cell_type": "markdown",
   "metadata": {},
   "source": [
    "## Imports\n",
    "\n",
    "<img alt=\"XKCD Python\" src=\"xkcd_python.png\" style=\"width: 500px;\">\n",
    "\n",
    "A lot of Python's power comes from its extensive [standard library](https://docs.python.org/3/library/index.html) (things included when you download it) and the large number of [third party libraries](https://pypi.python.org/pypi) available.\n",
    "\n",
    "You can get access the functions in a library using the [`import`](https://docs.python.org/3/reference/import.html) statement.  To import a whole library use `import foo` (where foo is the name of the library you want.  You can also import just a part of a library using `import foo.bar`.  To use the function `hello()` from the `foo` library you can then do: `foo.hello()`."
   ]
  },
  {
   "cell_type": "code",
   "execution_count": null,
   "metadata": {},
   "outputs": [],
   "source": [
    "# In this example we import the math library from the standard library and then call the factorial function\n",
    "\n",
    "import math\n",
    "\n",
    "math.factorial(5)"
   ]
  },
  {
   "cell_type": "markdown",
   "metadata": {},
   "source": [
    "It's also possible to just import a single function from a library.  If you use this method you can access the function without using the library name.  This can make your code more compact but it can become hard to know where a function came from if you overuse this."
   ]
  },
  {
   "cell_type": "code",
   "execution_count": null,
   "metadata": {},
   "outputs": [],
   "source": [
    "# We'll import just the shuffle() function from the random library\n",
    "\n",
    "from random import shuffle\n",
    "\n",
    "x = [1, 2, 3, 4]\n",
    "shuffle(x)\n",
    "print(x)"
   ]
  },
  {
   "cell_type": "markdown",
   "metadata": {},
   "source": [
    "Third party libraries must be installed before you can use them.  The tool to do this is called [pip](https://pip.pypa.io/en/stable/).  You need your own installation of Python before can try this for yourself ([Anaconda](https://www.continuum.io/downloads) is probably the easiest way to get going).  We might have time to cover this in a later session but please ask if you need any help trying this before then.\n",
    "\n",
    "## Working with CSV files\n",
    "\n",
    "We're going to work through an example of extracting some data from a CSV file.  In the Jupyter Notebook you external programs commands by preceding the command name with an !.  Let's use the Unix `head` utility to have a look at the start of file."
   ]
  },
  {
   "cell_type": "code",
   "execution_count": 7,
   "metadata": {},
   "outputs": [
    {
     "name": "stdout",
     "output_type": "stream",
     "text": [
      "site,subject,timepoint,dob,brain_vol,lesion_vol\r\n",
      "02,001,baseline,1983-05-16,1678.97,14.46\r\n",
      "02,001,week_12,1976-03-19,1252.54,163.27\r\n",
      "02,001,week_24,1988-10-11,1518.09,90.54\r\n",
      "02,002,baseline,1973-07-09,1451.16,35.29\r\n",
      "02,002,week_12,1983-07-21,1406.57,185.77\r\n",
      "02,002,week_24,1973-01-15,1551.55,133.57\r\n",
      "02,003,baseline,1988-07-21,1666.17,78.20\r\n",
      "02,003,week_12,1989-07-12,1406.01,83.15\r\n",
      "02,003,week_24,1980-04-02,1654.53,116.87\r\n"
     ]
    }
   ],
   "source": [
    "!head example_data.csv"
   ]
  },
  {
   "cell_type": "markdown",
   "metadata": {},
   "source": [
    "### Reading the file with the csv library"
   ]
  },
  {
   "cell_type": "code",
   "execution_count": 9,
   "metadata": {},
   "outputs": [
    {
     "name": "stdout",
     "output_type": "stream",
     "text": [
      "['site', 'subject', 'timepoint', 'dob', 'brain_vol', 'lesion_vol']\n",
      "['02', '001', 'baseline', '1983-05-16', '1678.97', '14.46']\n",
      "['02', '001', 'week_12', '1976-03-19', '1252.54', '163.27']\n",
      "['02', '001', 'week_24', '1988-10-11', '1518.09', '90.54']\n",
      "['02', '002', 'baseline', '1973-07-09', '1451.16', '35.29']\n",
      "['02', '002', 'week_12', '1983-07-21', '1406.57', '185.77']\n",
      "['02', '002', 'week_24', '1973-01-15', '1551.55', '133.57']\n",
      "['02', '003', 'baseline', '1988-07-21', '1666.17', '78.20']\n",
      "['02', '003', 'week_12', '1989-07-12', '1406.01', '83.15']\n",
      "['02', '003', 'week_24', '1980-04-02', '1654.53', '116.87']\n",
      "['02', '005', 'baseline', '1987-05-08', '1658.24', '63.46']\n",
      "['02', '005', 'week_12', '1982-02-20', '1585.39', '56.18']\n",
      "['02', '005', 'week_24', '1974-11-02', '1407.46', '94.47']\n",
      "['03', '001', 'baseline', '1971-05-05', '1365.18', '73.98']\n",
      "['03', '001', 'week_12', '1978-01-01', '1318.63', '17.54']\n",
      "['03', '001', 'week_24', '1976-01-06', '1519.73', '106.48']\n",
      "['03', '002', 'baseline', '1978-03-12', '1264.60', '140.90']\n",
      "['03', '002', 'week_12', '1973-05-12', '1568.30', '66.12']\n",
      "['03', '002', 'week_24', '1986-03-03', '1418.35', '143.30']\n",
      "['03', '003', 'baseline', '1977-10-04', '1662.61', '51.98']\n",
      "['03', '003', 'week_12', '1982-04-23', '1662.12', '101.27']\n",
      "['03', '003', 'week_24', '1973-10-07', '1238.56', '169.19']\n",
      "['03', '005', 'baseline', '1974-05-01', '1471.65', '191.47']\n",
      "['03', '005', 'week_12', '1976-02-27', '1202.63', '98.45']\n",
      "['03', '005', 'week_24', '1981-02-14', '1615.93', '20.72']\n",
      "['04', '001', 'baseline', '1987-07-15', '1680.93', '169.55']\n",
      "['04', '001', 'week_12', '1986-01-09', '1440.62', '159.16']\n",
      "['04', '001', 'week_24', '1973-04-21', '1393.31', '91.01']\n",
      "['04', '002', 'baseline', '1980-09-03', '1548.13', '141.07']\n",
      "['04', '002', 'week_12', '1978-10-14', '1551.23', '119.59']\n",
      "['04', '002', 'week_24', '1982-02-08', '1392.54', '24.38']\n",
      "['04', '003', 'baseline', '1980-11-20', '1583.70', '190.51']\n",
      "['04', '003', 'week_12', '1979-04-14', '1350.02', '117.40']\n",
      "['04', '003', 'week_24', '1985-01-02', '1590.40', '158.17']\n",
      "['04', '005', 'baseline', '1980-07-03', '1312.13', '174.07']\n",
      "['04', '005', 'week_12', '1985-10-09', '1615.29', '148.48']\n",
      "['04', '005', 'week_24', '1989-05-02', '1225.05', '178.93']\n",
      "['06', '001', 'baseline', '1985-08-13', '1240.30', '145.58']\n",
      "['06', '001', 'week_12', '1976-04-03', '1358.06', '16.66']\n",
      "['06', '001', 'week_24', '1972-10-20', '1412.81', '170.14']\n",
      "['06', '002', 'baseline', '1980-07-17', '1269.83', '64.55']\n",
      "['06', '002', 'week_12', '1985-07-10', '1554.17', '29.72']\n",
      "['06', '002', 'week_24', '1975-11-23', '1646.82', '137.47']\n",
      "['06', '003', 'baseline', '1973-09-08', '1400.18', '81.98']\n",
      "['06', '003', 'week_12', '1980-03-21', '1531.44', '182.24']\n",
      "['06', '003', 'week_24', '1970-11-23', '1473.04', '198.03']\n",
      "['06', '005', 'baseline', '1982-07-01', '1277.07', '179.85']\n",
      "['06', '005', 'week_12', '1988-11-13', '1234.17', '152.56']\n",
      "['06', '005', 'week_24', '1973-08-18', '1333.54', '52.78']\n"
     ]
    }
   ],
   "source": [
    "import csv\n",
    "\n",
    "csv_file = open('example_data.csv', 'r')\n",
    "csv_reader = csv.reader(csv_file)\n",
    "for r in csv_reader:\n",
    "    print(r)"
   ]
  },
  {
   "cell_type": "markdown",
   "metadata": {},
   "source": [
    "### Calculating the mean brain volume"
   ]
  },
  {
   "cell_type": "code",
   "execution_count": 17,
   "metadata": {},
   "outputs": [
    {
     "name": "stdout",
     "output_type": "stream",
     "text": [
      "mean brain volume: 1457.4947916666667\n"
     ]
    }
   ],
   "source": [
    "import csv\n",
    "\n",
    "total_brain_vol = 0.0\n",
    "num_brains = 0\n",
    "\n",
    "csv_file = open('example_data.csv', 'r')\n",
    "csv_reader = csv.DictReader(csv_file)\n",
    "for r in csv_reader:\n",
    "    brain_vol_str = r['brain_vol']\n",
    "    brain_vol_float = float(brain_vol_str)\n",
    "    total_brain_vol += brain_vol_float\n",
    "    num_brains += 1\n",
    "mean_brain_vol = total_brain_vol / num_brains\n",
    "print('mean brain volume:', mean_brain_vol)"
   ]
  },
  {
   "cell_type": "markdown",
   "metadata": {},
   "source": [
    "### Calculating the lesion volume for site 03"
   ]
  },
  {
   "cell_type": "code",
   "execution_count": 18,
   "metadata": {},
   "outputs": [
    {
     "name": "stdout",
     "output_type": "stream",
     "text": [
      "mean brain volume: 1442.3575\n"
     ]
    }
   ],
   "source": [
    "import csv\n",
    "\n",
    "total_brain_vol = 0.0\n",
    "num_brains = 0\n",
    "\n",
    "csv_file = open('example_data.csv', 'r')\n",
    "csv_reader = csv.DictReader(csv_file)\n",
    "for r in csv_reader:\n",
    "    if r['site'] != '03':\n",
    "        continue\n",
    "    brain_vol_str = r['brain_vol']\n",
    "    brain_vol_float = float(brain_vol_str)\n",
    "    total_brain_vol += brain_vol_float\n",
    "    num_brains += 1\n",
    "mean_brain_vol = total_brain_vol / num_brains\n",
    "print('mean brain volume:', mean_brain_vol)"
   ]
  },
  {
   "cell_type": "markdown",
   "metadata": {},
   "source": [
    "### Removing the date of birth"
   ]
  },
  {
   "cell_type": "code",
   "execution_count": 19,
   "metadata": {},
   "outputs": [
    {
     "name": "stdout",
     "output_type": "stream",
     "text": [
      "02,001,baseline,1678.97,14.46\n",
      "02,001,week_12,1252.54,163.27\n",
      "02,001,week_24,1518.09,90.54\n",
      "02,002,baseline,1451.16,35.29\n",
      "02,002,week_12,1406.57,185.77\n",
      "02,002,week_24,1551.55,133.57\n",
      "02,003,baseline,1666.17,78.20\n",
      "02,003,week_12,1406.01,83.15\n",
      "02,003,week_24,1654.53,116.87\n",
      "02,005,baseline,1658.24,63.46\n",
      "02,005,week_12,1585.39,56.18\n",
      "02,005,week_24,1407.46,94.47\n",
      "03,001,baseline,1365.18,73.98\n",
      "03,001,week_12,1318.63,17.54\n",
      "03,001,week_24,1519.73,106.48\n",
      "03,002,baseline,1264.60,140.90\n",
      "03,002,week_12,1568.30,66.12\n",
      "03,002,week_24,1418.35,143.30\n",
      "03,003,baseline,1662.61,51.98\n",
      "03,003,week_12,1662.12,101.27\n",
      "03,003,week_24,1238.56,169.19\n",
      "03,005,baseline,1471.65,191.47\n",
      "03,005,week_12,1202.63,98.45\n",
      "03,005,week_24,1615.93,20.72\n",
      "04,001,baseline,1680.93,169.55\n",
      "04,001,week_12,1440.62,159.16\n",
      "04,001,week_24,1393.31,91.01\n",
      "04,002,baseline,1548.13,141.07\n",
      "04,002,week_12,1551.23,119.59\n",
      "04,002,week_24,1392.54,24.38\n",
      "04,003,baseline,1583.70,190.51\n",
      "04,003,week_12,1350.02,117.40\n",
      "04,003,week_24,1590.40,158.17\n",
      "04,005,baseline,1312.13,174.07\n",
      "04,005,week_12,1615.29,148.48\n",
      "04,005,week_24,1225.05,178.93\n",
      "06,001,baseline,1240.30,145.58\n",
      "06,001,week_12,1358.06,16.66\n",
      "06,001,week_24,1412.81,170.14\n",
      "06,002,baseline,1269.83,64.55\n",
      "06,002,week_12,1554.17,29.72\n",
      "06,002,week_24,1646.82,137.47\n",
      "06,003,baseline,1400.18,81.98\n",
      "06,003,week_12,1531.44,182.24\n",
      "06,003,week_24,1473.04,198.03\n",
      "06,005,baseline,1277.07,179.85\n",
      "06,005,week_12,1234.17,152.56\n",
      "06,005,week_24,1333.54,52.78\n"
     ]
    }
   ],
   "source": [
    "import csv\n",
    "\n",
    "total_brain_vol = 0.0\n",
    "num_brains = 0\n",
    "\n",
    "csv_file = open('example_data.csv', 'r')\n",
    "csv_reader = csv.DictReader(csv_file)\n",
    "for r in csv_reader:\n",
    "    print(r['site'], r['subject'], r['timepoint'], r['brain_vol'], r['lesion_vol'], sep=',')"
   ]
  },
  {
   "cell_type": "markdown",
   "metadata": {},
   "source": [
    "## A much easier way using Pandas\n",
    "\n",
    "[Pandas](http://pandas.pydata.org/) is a third-party library for data analysis in Python.  It includes functions for reading many types of data and performing analysis.  It can make some of what we did above a lot easier:"
   ]
  },
  {
   "cell_type": "code",
   "execution_count": null,
   "metadata": {
    "collapsed": true
   },
   "outputs": [],
   "source": []
  },
  {
   "cell_type": "markdown",
   "metadata": {},
   "source": [
    "### Image credits\n",
    "Safe deposit boxes: Public domain\n",
    "\n",
    "Python comic: [XKCD](https://xkcd.com/353/) Creative Commons Attribution-NonCommercial 2.5 License"
   ]
  }
 ],
 "metadata": {
  "kernelspec": {
   "display_name": "Python 3",
   "language": "python",
   "name": "python3"
  },
  "language_info": {
   "codemirror_mode": {
    "name": "ipython",
    "version": 3
   },
   "file_extension": ".py",
   "mimetype": "text/x-python",
   "name": "python",
   "nbconvert_exporter": "python",
   "pygments_lexer": "ipython3",
   "version": "3.4.5"
  }
 },
 "nbformat": 4,
 "nbformat_minor": 2
}
