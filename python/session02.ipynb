{
 "cells": [
  {
   "cell_type": "markdown",
   "metadata": {},
   "source": [
    "# The QSMSC computing course presents...\n",
    "![Python logo](python-logo.png)\n",
    "\n",
    "## Last time we covered...\n",
    "    \n",
    "### Printing"
   ]
  },
  {
   "cell_type": "code",
   "execution_count": null,
   "metadata": {},
   "outputs": [],
   "source": [
    "print(\"Hello world\")\n",
    "print(5)\n",
    "print(\"You can print\", \"more than\", 1, \"thing at a time\")"
   ]
  },
  {
   "cell_type": "markdown",
   "metadata": {},
   "source": [
    "### Variables"
   ]
  },
  {
   "cell_type": "code",
   "execution_count": null,
   "metadata": {},
   "outputs": [],
   "source": [
    "a = 12\n",
    "my_variable = \"a string\"\n",
    "print(a, my_variable)"
   ]
  },
  {
   "cell_type": "markdown",
   "metadata": {},
   "source": [
    "### Maths"
   ]
  },
  {
   "cell_type": "code",
   "execution_count": null,
   "metadata": {},
   "outputs": [],
   "source": [
    "add = 4 + 5\n",
    "sub = 6 - 4\n",
    "mul = 2.5 * 2\n",
    "div = 9 / 2\n",
    "mod = 3 % 2\n",
    "exp = 4 ** 2\n",
    "who = 9 // 2\n",
    "\n",
    "print('4 + 5 =', add)\n",
    "print('6 - 4 =', sub)\n",
    "print('2.5 * 2 =', mul)\n",
    "print('9 / 2 =', div)\n",
    "print('3 % 2 =', mod)\n",
    "print('4 ** 2 =', exp)\n",
    "print('9 // 2 =', who)"
   ]
  },
  {
   "cell_type": "markdown",
   "metadata": {},
   "source": [
    "### Lists"
   ]
  },
  {
   "cell_type": "code",
   "execution_count": null,
   "metadata": {},
   "outputs": [],
   "source": [
    "# making a list\n",
    "vegetables = ['potato', 'carrot']\n",
    "print('vegetables = ', vegetables)\n",
    "\n",
    "# appending to the list\n",
    "vegetables.append('turnip')\n",
    "print('after appending, vegetables =', vegetables)\n",
    "\n",
    "# accessing items\n",
    "print('the first item is', vegetables[0])\n",
    "print('the last item is', vegetables[-1])\n",
    "\n",
    "# taking an item out of the list\n",
    "vegetables.pop(1)\n",
    "print('after pop(1), vegetables = ', vegetables)"
   ]
  },
  {
   "cell_type": "markdown",
   "metadata": {},
   "source": [
    "### The `if` statement"
   ]
  },
  {
   "cell_type": "code",
   "execution_count": null,
   "metadata": {},
   "outputs": [],
   "source": [
    "my_variable = 5\n",
    "my_other_variable = 2\n",
    "\n",
    "if my_variable >= 4:\n",
    "    print('my_variable is >= 4')\n",
    "else:\n",
    "    print('my_variable is not >= 4')"
   ]
  },
  {
   "cell_type": "code",
   "execution_count": null,
   "metadata": {},
   "outputs": [],
   "source": [
    "my_variable = 5\n",
    "my_other_variable = 2\n",
    "\n",
    "if (my_variable < 3) and (my_other_variable >= 4):\n",
    "    print('both conditions True in the second if statement')\n",
    "else:\n",
    "    print('one of other condition was False in the second if statement')"
   ]
  },
  {
   "cell_type": "markdown",
   "metadata": {},
   "source": [
    "### The `for` loop"
   ]
  },
  {
   "cell_type": "code",
   "execution_count": null,
   "metadata": {},
   "outputs": [],
   "source": [
    "# range lets us loop over a list of numbers\n",
    "for i in range(10):\n",
    "    print(i)"
   ]
  },
  {
   "cell_type": "code",
   "execution_count": null,
   "metadata": {
    "collapsed": true
   },
   "outputs": [],
   "source": [
    "# you can also use a for loop on lists\n",
    "for country in ['France', 'Spain', 'Italy']:\n",
    "    print(country)"
   ]
  },
  {
   "cell_type": "markdown",
   "metadata": {},
   "source": [
    "### The `while` loop"
   ]
  },
  {
   "cell_type": "code",
   "execution_count": null,
   "metadata": {},
   "outputs": [],
   "source": [
    "x = 0\n",
    "while x < 10:\n",
    "    print(x)\n",
    "    x = x + 2"
   ]
  },
  {
   "cell_type": "markdown",
   "metadata": {},
   "source": [
    "### Defining functions"
   ]
  },
  {
   "cell_type": "code",
   "execution_count": null,
   "metadata": {},
   "outputs": [],
   "source": [
    "def say_hello(name):\n",
    "    print('Hello', name)\n",
    "    \n",
    "say_hello('Jon')"
   ]
  },
  {
   "cell_type": "code",
   "execution_count": null,
   "metadata": {},
   "outputs": [],
   "source": [
    "def add_two_numbers(x, y):\n",
    "    return x + y\n",
    "\n",
    "add_two_numbers(4, 3)"
   ]
  },
  {
   "cell_type": "markdown",
   "metadata": {},
   "source": [
    "## This week\n",
    "\n",
    "This week we're going to quickly go over another type, the [dictionary](https://docs.python.org/2/tutorial/datastructures.html#dictionaries).  Then we're going to solve an example problem using Python's library to read and analyse a CSV of data.\n",
    "\n",
    "\n",
    "## The dictionary\n",
    "\n",
    "<img alt=\"Safe deposit boxes\" src=\"safe_deposit.jpg\" style=\"width: 400px;\">\n",
    "\n",
    "Dictionaries are a little like the safe deposit boxes at a bank.  They hold a collection of items and you need a key to get each item.  This is very useful collecting this together into records e.g. a patient's name, age and gender.\n",
    "\n",
    "You use the [`dict()`](https://docs.python.org/2/library/stdtypes.html#dict) function to create a dictionary but there's a useful shortcut:\n",
    "\n",
    "    my_dictionary = {\n",
    "        'key1': 'value1',\n",
    "        'key2': 'value2'\n",
    "    }\n",
    "    \n",
    "The values in a dictionary can be any python type and you can mix them so a dict can contain e.g. strings, numbers, lists and even other dictionaries.  The keys must be immutable (this means that they can't change), immutable types include: strings and numbers (note that lists and dictionaries are not immutable).  You access the values in a dictionary using square brackets:\n",
    "\n",
    "    my_dictionary['key1']"
   ]
  },
  {
   "cell_type": "code",
   "execution_count": null,
   "metadata": {},
   "outputs": [],
   "source": [
    "# make a dictionary describing a single patient\n",
    "patient = {\n",
    "    'name': 'Alice',\n",
    "    'age': 32,\n",
    "    'symptoms': ['nausea', 'headache']\n",
    "}\n",
    "\n",
    "print(patient['name'])\n",
    "print(patient['age'])\n",
    "print(patient['symptoms'])"
   ]
  },
  {
   "cell_type": "code",
   "execution_count": null,
   "metadata": {},
   "outputs": [],
   "source": [
    "# make a dictionary with patient IDs as keys and another dictionary as the values\n",
    "all_patients = {\n",
    "    10001: {'name': 'Barry', 'age': 20, 'symptoms': ['headache']},\n",
    "    22003: {'name': 'Emma', 'age': 41, 'symptoms': ['headache', 'nausea']},\n",
    "    32004: {'name': 'Emma', 'age': 41, 'symptoms': ['ataxia']},\n",
    "}\n",
    "\n",
    "print(all_patients[10001])\n",
    "print(all_patients[22003])\n",
    "print(all_patients[32004])"
   ]
  },
  {
   "cell_type": "code",
   "execution_count": null,
   "metadata": {
    "collapsed": true
   },
   "outputs": [],
   "source": []
  },
  {
   "cell_type": "markdown",
   "metadata": {},
   "source": [
    "### Image credits\n",
    "Safe deposit boxes: Public domain"
   ]
  }
 ],
 "metadata": {
  "kernelspec": {
   "display_name": "Python 3",
   "language": "python",
   "name": "python3"
  },
  "language_info": {
   "codemirror_mode": {
    "name": "ipython",
    "version": 3
   },
   "file_extension": ".py",
   "mimetype": "text/x-python",
   "name": "python",
   "nbconvert_exporter": "python",
   "pygments_lexer": "ipython3",
   "version": "3.4.5"
  }
 },
 "nbformat": 4,
 "nbformat_minor": 2
}
